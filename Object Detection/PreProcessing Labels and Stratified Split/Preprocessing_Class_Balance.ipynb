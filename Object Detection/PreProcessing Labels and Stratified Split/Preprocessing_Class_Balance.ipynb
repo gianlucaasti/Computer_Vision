{
  "nbformat": 4,
  "nbformat_minor": 0,
  "metadata": {
    "colab": {
      "provenance": [],
      "collapsed_sections": []
    },
    "kernelspec": {
      "name": "python3",
      "display_name": "Python 3"
    },
    "language_info": {
      "name": "python"
    }
  },
  "cells": [
    {
      "cell_type": "code",
      "source": [
        "#!pip install sklearn"
      ],
      "metadata": {
        "id": "zaeVjlzisMz_"
      },
      "execution_count": null,
      "outputs": []
    },
    {
      "cell_type": "code",
      "execution_count": null,
      "metadata": {
        "id": "NnC3RVkfNKAK"
      },
      "outputs": [],
      "source": [
        "#To visualize CSV data\n",
        "import pandas as pd\n",
        "import numpy as np\n",
        "import matplotlib.pyplot as plt\n",
        "import cv2\n",
        "import ast\n",
        "#To copy and move images\n",
        "import shutil\n",
        "import os\n",
        "# To split dataset\n",
        "from sklearn.model_selection import StratifiedKFold\n",
        "from matplotlib.pyplot import figure\n",
        "import warnings\n",
        "\n",
        "warnings.filterwarnings('ignore')\n",
        "\n",
        "%matplotlib inline"
      ]
    },
    {
      "cell_type": "code",
      "source": [
        "PATH = 'D:/Pictures/dataset/new_images/cells.csv'\n",
        "IMG_ROOT = 'D:/Pictures/dataset/new_images/'"
      ],
      "metadata": {
        "id": "0IXxY4zJN6mo"
      },
      "execution_count": null,
      "outputs": []
    },
    {
      "cell_type": "markdown",
      "source": [
        "**CHECK CLASS IMBALANCE IN TARGET**"
      ],
      "metadata": {
        "id": "EscbvKqEQeOU"
      }
    },
    {
      "cell_type": "code",
      "source": [
        "data = pd.read_csv(PATH, delimiter=',', index_col=0)\n",
        "data.head()"
      ],
      "metadata": {
        "colab": {
          "base_uri": "https://localhost:8080/",
          "height": 206
        },
        "id": "L_BQuEOYN6pe",
        "outputId": "753c98c9-30f6-4db7-f3f3-3c7240348c6e"
      },
      "execution_count": null,
      "outputs": [
        {
          "output_type": "execute_result",
          "data": {
            "text/plain": [
              "               img_name      class                          bbox\n",
              "0  BloodImage_00322.jpg  Platelets  ['168', '374', '198', '406']\n",
              "1  BloodImage_00322.jpg  Platelets  ['527', '244', '564', '282']\n",
              "2  BloodImage_00322.jpg  Platelets  ['565', '383', '602', '421']\n",
              "3  BloodImage_00322.jpg        WBC  ['307', '174', '528', '387']\n",
              "4  BloodImage_00377.jpg        RBC  ['448', '244', '566', '350']"
            ],
            "text/html": [
              "<div>\n",
              "<style scoped>\n",
              "    .dataframe tbody tr th:only-of-type {\n",
              "        vertical-align: middle;\n",
              "    }\n",
              "\n",
              "    .dataframe tbody tr th {\n",
              "        vertical-align: top;\n",
              "    }\n",
              "\n",
              "    .dataframe thead th {\n",
              "        text-align: right;\n",
              "    }\n",
              "</style>\n",
              "<table border=\"1\" class=\"dataframe\">\n",
              "  <thead>\n",
              "    <tr style=\"text-align: right;\">\n",
              "      <th></th>\n",
              "      <th>img_name</th>\n",
              "      <th>class</th>\n",
              "      <th>bbox</th>\n",
              "    </tr>\n",
              "  </thead>\n",
              "  <tbody>\n",
              "    <tr>\n",
              "      <th>0</th>\n",
              "      <td>BloodImage_00322.jpg</td>\n",
              "      <td>Platelets</td>\n",
              "      <td>['168', '374', '198', '406']</td>\n",
              "    </tr>\n",
              "    <tr>\n",
              "      <th>1</th>\n",
              "      <td>BloodImage_00322.jpg</td>\n",
              "      <td>Platelets</td>\n",
              "      <td>['527', '244', '564', '282']</td>\n",
              "    </tr>\n",
              "    <tr>\n",
              "      <th>2</th>\n",
              "      <td>BloodImage_00322.jpg</td>\n",
              "      <td>Platelets</td>\n",
              "      <td>['565', '383', '602', '421']</td>\n",
              "    </tr>\n",
              "    <tr>\n",
              "      <th>3</th>\n",
              "      <td>BloodImage_00322.jpg</td>\n",
              "      <td>WBC</td>\n",
              "      <td>['307', '174', '528', '387']</td>\n",
              "    </tr>\n",
              "    <tr>\n",
              "      <th>4</th>\n",
              "      <td>BloodImage_00377.jpg</td>\n",
              "      <td>RBC</td>\n",
              "      <td>['448', '244', '566', '350']</td>\n",
              "    </tr>\n",
              "  </tbody>\n",
              "</table>\n",
              "</div>"
            ]
          },
          "metadata": {},
          "execution_count": 55
        }
      ]
    },
    {
      "cell_type": "code",
      "source": [
        "data['class'].value_counts()"
      ],
      "metadata": {
        "colab": {
          "base_uri": "https://localhost:8080/"
        },
        "id": "vot-dowxN6s2",
        "outputId": "91e97a42-e3f5-4bf4-ecb6-9a5a452756f8"
      },
      "execution_count": null,
      "outputs": [
        {
          "output_type": "execute_result",
          "data": {
            "text/plain": [
              "RBC          3739\n",
              "WBC           372\n",
              "Platelets     361\n",
              "FBC             1\n",
              "Name: class, dtype: int64"
            ]
          },
          "metadata": {},
          "execution_count": 56
        }
      ]
    },
    {
      "cell_type": "code",
      "source": [
        "data['class'].value_counts(normalize=True)"
      ],
      "metadata": {
        "colab": {
          "base_uri": "https://localhost:8080/"
        },
        "id": "H9-YtCuBO0S6",
        "outputId": "59c24abc-3bc5-4feb-9f34-2ad9194d7f8b"
      },
      "execution_count": null,
      "outputs": [
        {
          "output_type": "execute_result",
          "data": {
            "text/plain": [
              "RBC          0.835904\n",
              "WBC          0.083166\n",
              "Platelets    0.080706\n",
              "FBC          0.000224\n",
              "Name: class, dtype: float64"
            ]
          },
          "metadata": {},
          "execution_count": 57
        }
      ]
    },
    {
      "cell_type": "markdown",
      "source": [
        "The WBC and Platelets labels are associated to the 16% of the dataset only.\n",
        "The data must be split using the labels for the stratification.\n",
        "We then need to do data augmentation. In this way we are certain that none of the \"augmented data\" gets selected both in the train and in the test dataset."
      ],
      "metadata": {
        "id": "dHEDEgZ5QjXz"
      }
    },
    {
      "cell_type": "markdown",
      "source": [
        "**SINGLE INSTANCE: FBC**"
      ],
      "metadata": {
        "id": "QbwvPHkOWLai"
      }
    },
    {
      "cell_type": "markdown",
      "source": [
        "The dataset contains one single instance of FBC. We need to exclude it from the database or apply data augmentation to it, with the risk of overfitting"
      ],
      "metadata": {
        "id": "Fbo9SBvEWPjZ"
      }
    },
    {
      "cell_type": "code",
      "source": [
        "# Get image as numpy array\n",
        "def load_image(name, path):\n",
        "    img_path = path + name\n",
        "    img = cv2.imread(img_path)\n",
        "    return img\n",
        "\n",
        "# Plot numpy array\n",
        "def plot_image(img):\n",
        "    plt.imshow(img)\n",
        "    plt.title(img.shape)\n",
        "    \n",
        "# Plot a grid of examples\n",
        "def plot_grid(img_names, img_root, rows=5, cols=5):\n",
        "    fig = plt.figure(figsize=(25,25))\n",
        "    \n",
        "    for i,name in enumerate(img_names):\n",
        "        fig.add_subplot(rows,cols,i+1)\n",
        "        img = load_image(name, img_root)\n",
        "        plot_image(img)\n",
        "        \n",
        "    plt.show()\n",
        "\n",
        "def class_to_color(class_id):\n",
        "    colors = {'Platelets':(255,0,0),'WBC':(0,255,0),'RBC':(0,0,255), 'FBC':(255,255,0)}\n",
        "    return colors[class_id]\n",
        "\n",
        "# draw a single bounding box onto a numpy array image\n",
        "def draw_bounding_box(img, annotation):\n",
        "    if annotation.isnull().values.any():\n",
        "        return\n",
        "    coord=ast.literal_eval(annotation['bbox'])\n",
        "    x_min, y_min = int(coord[0]), int(coord[1])\n",
        "    x_max, y_max = int(coord[2]), int(coord[3])\n",
        "    \n",
        "    class_id = annotation['class']\n",
        "    color = class_to_color(class_id)\n",
        "    \n",
        "    cv2.rectangle(img,(x_min,y_min),(x_max,y_max), color, 2)\n",
        "\n",
        "# draw all annotation bounding boxes on an image\n",
        "def annotate_image(img, name, all_annotations):\n",
        "    annotations = all_annotations[all_annotations['img_name'] == name]\n",
        "    for index, row in annotations.iterrows():\n",
        "        draw_bounding_box(img, row)\n"
      ],
      "metadata": {
        "id": "MyXFV02fQwV4"
      },
      "execution_count": null,
      "outputs": []
    },
    {
      "cell_type": "code",
      "source": [
        "\n",
        "# Plot a single sample with all its bounding boxes\n",
        "name = 'BloodImage_00396.jpg'\n",
        "img = load_image(name, IMG_ROOT)\n",
        "annotate_image(img, name, data)\n",
        "plot_image(img)"
      ],
      "metadata": {
        "colab": {
          "base_uri": "https://localhost:8080/",
          "height": 281
        },
        "id": "CbcasIHGVS5p",
        "outputId": "63a8db83-c770-447b-a9f9-f298d7f5694c"
      },
      "execution_count": null,
      "outputs": [
        {
          "output_type": "display_data",
          "data": {
            "text/plain": [
              "<Figure size 432x288 with 1 Axes>"
            ],
            "image/png": "[encoded data removed]"
          },
          "metadata": {
            "needs_background": "light"
          }
        }
      ]
    },
    {
      "cell_type": "markdown",
      "source": [
        "**SPLIT THE DATASET**\n",
        "\n",
        "The dataset will be split in 2 parts because of his limited size.\n",
        "\n",
        "Furthermore, it will be split 80/20 because of his limited size."
      ],
      "metadata": {
        "id": "1bI3gQhZWlFY"
      }
    },
    {
      "cell_type": "code",
      "source": [
        "onlyfbc=data[data['class']==\"FBC\"]\n",
        "imgpath=IMG_ROOT+str(onlyfbc['img_name'].to_string(index=False))\n",
        "print(imgpath)"
      ],
      "metadata": {
        "colab": {
          "base_uri": "https://localhost:8080/"
        },
        "id": "4Pft4h7LWkqp",
        "outputId": "524eb7be-3d65-409a-fbde-723d7fd3a483"
      },
      "execution_count": null,
      "outputs": [
        {
          "output_type": "stream",
          "name": "stdout",
          "text": [
            "D:/Pictures/dataset/new_images/BloodImage_00396.jpg\n"
          ]
        }
      ]
    },
    {
      "cell_type": "markdown",
      "source": [
        "Copy to Train folder"
      ],
      "metadata": {
        "id": "KGHYIt8CoLZ9"
      }
    },
    {
      "cell_type": "code",
      "source": [
        "\n",
        "dst_dir = IMG_ROOT+'train/'+str(onlyfbc['img_name'].to_string(index=False))\n",
        "shutil.copyfile(str(imgpath), str(dst_dir))"
      ],
      "metadata": {
        "colab": {
          "base_uri": "https://localhost:8080/"
        },
        "id": "XmL-oreWggZU",
        "outputId": "1273f61d-ab2c-4cd5-f6ce-b176557e5806"
      },
      "execution_count": null,
      "outputs": [
        {
          "output_type": "execute_result",
          "data": {
            "text/plain": [
              "'D:/Pictures/dataset/new_images/train/BloodImage_00396.jpg'"
            ]
          },
          "metadata": {},
          "execution_count": 43
        }
      ]
    },
    {
      "cell_type": "markdown",
      "source": [
        "Copy the image also to Test"
      ],
      "metadata": {
        "id": "80Jv44IXoIPt"
      }
    },
    {
      "cell_type": "code",
      "source": [
        "dst_dir = IMG_ROOT+'test/'+str(onlyfbc['img_name'].to_string(index=False))\n",
        "shutil.copyfile(str(imgpath), str(dst_dir))"
      ],
      "metadata": {
        "colab": {
          "base_uri": "https://localhost:8080/"
        },
        "id": "qqxYn75vWklp",
        "outputId": "1a3b933b-2e08-4cef-edee-c0083628beec"
      },
      "execution_count": null,
      "outputs": [
        {
          "output_type": "execute_result",
          "data": {
            "text/plain": [
              "'D:/Pictures/dataset/new_images/test/BloodImage_00396.jpg'"
            ]
          },
          "metadata": {},
          "execution_count": 45
        }
      ]
    },
    {
      "cell_type": "markdown",
      "source": [
        "To split the dataset, a Stratified KFold is used. We select one of the 5 folds (containing 20% of the data) and we keep the rest for the training"
      ],
      "metadata": {
        "id": "7UzsnMKyoPvW"
      }
    },
    {
      "cell_type": "code",
      "source": [
        "\n",
        "df = pd.read_csv(r'D:/Pictures/dataset/new_images/cells.csv')\n",
        "df = pd.DataFrame(df)\n",
        "df = df[df['class'] != 'FBC']\n",
        "\n",
        "skf = StratifiedKFold(n_splits=5, shuffle=True, random_state=101)\n",
        "df_folds = df[['img_name']].copy()\n",
        "\n",
        "#I get a table with each picture name and the count of the bounding boxes\n",
        "df_folds.loc[:, 'bbox_count'] = 1\n",
        "df_folds = df_folds.groupby('img_name').count()\n",
        "\n",
        "#I associate the number of unique labels for picture\n",
        "df_folds.loc[:, 'object_count'] = df.groupby('img_name')['class'].nunique()\n",
        "\n",
        "df_folds.loc[:, 'stratify_group'] = np.char.add(\n",
        "    df_folds['object_count'].values.astype(str),\n",
        "    df_folds['bbox_count'].apply(lambda x: f'_{x // 15}').values.astype(str)\n",
        ")\n",
        "\n",
        "print(df_folds)\n",
        "\n",
        "df_folds.loc[:, 'fold'] = 0\n",
        "for fold_number, (train_index, val_index) in enumerate(skf.split(X=df_folds.index, y=df_folds['stratify_group'])):\n",
        "    df_folds.loc[df_folds.iloc[val_index].index, 'fold'] = fold_number\n",
        "\n",
        "# example with fold 0\n",
        "df_folds.reset_index(inplace=True)\n",
        "\n",
        "df_valid = pd.merge(df, df_folds[df_folds['fold'] == 0], on='img_name')\n",
        "\n",
        "df_train = pd.merge(df, df_folds[df_folds['fold'] != 0], on='img_name')\n",
        "\n",
        "figure(num=None, figsize=(30, 8))\n",
        "df_train['class'].hist()\n",
        "df_valid['class'].hist()\n",
        "plt.show()"
      ],
      "metadata": {
        "colab": {
          "base_uri": "https://localhost:8080/",
          "height": 660
        },
        "id": "tkVKRMSEWkcB",
        "outputId": "d1b1e4fe-2b7b-4cd9-af8e-3a6b92b8ed52"
      },
      "execution_count": null,
      "outputs": [
        {
          "output_type": "stream",
          "name": "stdout",
          "text": [
            "                      bbox_count  object_count stratify_group\n",
            "img_name                                                     \n",
            "BloodImage_00000.jpg          20             2            2_1\n",
            "BloodImage_00001.jpg          19             2            2_1\n",
            "BloodImage_00002.jpg          16             2            2_1\n",
            "BloodImage_00003.jpg          17             3            3_1\n",
            "BloodImage_00004.jpg          13             3            3_0\n",
            "...                          ...           ...            ...\n",
            "BloodImage_00405.jpg          15             2            2_1\n",
            "BloodImage_00407.jpg          19             3            3_1\n",
            "BloodImage_00408.jpg          18             3            3_1\n",
            "BloodImage_00409.jpg          19             3            3_1\n",
            "BloodImage_00410.jpg          18             3            3_1\n",
            "\n",
            "[364 rows x 3 columns]\n"
          ]
        },
        {
          "output_type": "display_data",
          "data": {
            "text/plain": [
              "<Figure size 2160x576 with 1 Axes>"
            ],
            "image/png": "[encoded data removed]"
          },
          "metadata": {
            "needs_background": "light"
          }
        }
      ]
    },
    {
      "cell_type": "code",
      "source": [
        "df_train.to_csv(str(IMG_ROOT+str(\"/train.csv\")))\n",
        "df_valid.to_csv(str(IMG_ROOT+str(\"/valid.csv\")))"
      ],
      "metadata": {
        "id": "oR5uNOh-vq6B"
      },
      "execution_count": null,
      "outputs": []
    },
    {
      "cell_type": "markdown",
      "source": [
        "Move all the images in test and train folder"
      ],
      "metadata": {
        "id": "7kUAlxAl0PG9"
      }
    },
    {
      "cell_type": "code",
      "source": [
        "for element in list(df_train['img_name'].unique()):\n",
        "  imgpath=IMG_ROOT+str(element)\n",
        "  dst_dir = IMG_ROOT+'train/'+str(element)\n",
        "  os.replace(imgpath, dst_dir)"
      ],
      "metadata": {
        "id": "YlfTF1G1w2Yx"
      },
      "execution_count": null,
      "outputs": []
    },
    {
      "cell_type": "code",
      "source": [
        "for element in list(df_valid['img_name'].unique()):\n",
        "  imgpath=IMG_ROOT+str(element)\n",
        "  dst_dir = IMG_ROOT+'test/'+str(element)\n",
        "  os.replace(imgpath, dst_dir)"
      ],
      "metadata": {
        "id": "UOQAMsEg0OS2"
      },
      "execution_count": null,
      "outputs": []
    }
  ]
}