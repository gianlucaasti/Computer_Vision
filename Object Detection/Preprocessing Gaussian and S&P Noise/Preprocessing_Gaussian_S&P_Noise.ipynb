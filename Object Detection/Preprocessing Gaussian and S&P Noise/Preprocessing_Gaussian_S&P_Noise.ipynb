{
  "nbformat": 4,
  "nbformat_minor": 0,
  "metadata": {
    "colab": {
      "provenance": [],
      "collapsed_sections": []
    },
    "kernelspec": {
      "name": "python3",
      "display_name": "Python 3"
    },
    "language_info": {
      "name": "python"
    }
  },
  "cells": [
    {
      "cell_type": "markdown",
      "source": [
        "**IMPORT LIBRARIES**"
      ],
      "metadata": {
        "id": "_mPCp_nZSdcr"
      }
    },
    {
      "cell_type": "code",
      "source": [
        "import skimage\n",
        "import pandas as pd\n",
        "import numpy as np\n",
        "import matplotlib.pyplot as plt\n",
        "import cv2\n",
        "import ast\n",
        "%matplotlib inline\n",
        "\n",
        "import warnings\n",
        "warnings.filterwarnings(\"ignore\")"
      ],
      "metadata": {
        "id": "zqrvtNDwL9J6"
      },
      "execution_count": null,
      "outputs": []
    },
    {
      "cell_type": "code",
      "source": [
        "PATH = 'D:/Pictures/dataset/new_images/train.csv'\n",
        "IMG_ROOT = 'D:/Pictures/dataset/new_images/train/'"
      ],
      "metadata": {
        "id": "_SO5Vl4kMZc6"
      },
      "execution_count": null,
      "outputs": []
    },
    {
      "cell_type": "markdown",
      "source": [
        "**IMPORT CSV AND PLOT IMAGES**"
      ],
      "metadata": {
        "id": "hbroR6dHSiPa"
      }
    },
    {
      "cell_type": "code",
      "source": [
        "# Get image as numpy array\n",
        "def load_image(name, path):\n",
        "    img_path = path + name\n",
        "    img = cv2.imread(img_path)\n",
        "    return img\n",
        "\n",
        "# Plot numpy array\n",
        "def plot_image(img):\n",
        "    plt.imshow(img)\n",
        "    plt.title(img.shape)\n",
        "    \n",
        "# Plot a grid of examples\n",
        "def plot_grid(img_names, img_root, rows=5, cols=5):\n",
        "    fig = plt.figure(figsize=(25,25))\n",
        "    \n",
        "    for i,name in enumerate(img_names):\n",
        "        fig.add_subplot(rows,cols,i+1)\n",
        "        img = load_image(name, img_root)\n",
        "        plot_image(img)\n",
        "        \n",
        "    plt.show()"
      ],
      "metadata": {
        "id": "6ZKvgzmlMZah"
      },
      "execution_count": null,
      "outputs": []
    },
    {
      "cell_type": "code",
      "source": [
        "data = pd.read_csv(PATH, delimiter=',')\n",
        "data.head()"
      ],
      "metadata": {
        "colab": {
          "base_uri": "https://localhost:8080/",
          "height": 206
        },
        "id": "vgaFD1HSMxfp",
        "outputId": "550cbaaf-130b-4c86-e800-d093b5ff21a1"
      },
      "execution_count": null,
      "outputs": [
        {
          "output_type": "execute_result",
          "data": {
            "text/plain": [
              "   Unnamed: 0              img_name      class                          bbox  \\\n",
              "0           0  BloodImage_00322.jpg  Platelets  ['168', '374', '198', '406']   \n",
              "1           1  BloodImage_00322.jpg  Platelets  ['527', '244', '564', '282']   \n",
              "2           2  BloodImage_00322.jpg  Platelets  ['565', '383', '602', '421']   \n",
              "3           3  BloodImage_00322.jpg        WBC  ['307', '174', '528', '387']   \n",
              "4           4  BloodImage_00047.jpg        WBC  ['278', '147', '383', '259']   \n",
              "\n",
              "   bbox_count  object_count stratify_group  fold  \n",
              "0         4.0           2.0            2_0   2.0  \n",
              "1         4.0           2.0            2_0   2.0  \n",
              "2         4.0           2.0            2_0   2.0  \n",
              "3         4.0           2.0            2_0   2.0  \n",
              "4        21.0           3.0            3_1   3.0  "
            ],
            "text/html": [
              "<div>\n",
              "<style scoped>\n",
              "    .dataframe tbody tr th:only-of-type {\n",
              "        vertical-align: middle;\n",
              "    }\n",
              "\n",
              "    .dataframe tbody tr th {\n",
              "        vertical-align: top;\n",
              "    }\n",
              "\n",
              "    .dataframe thead th {\n",
              "        text-align: right;\n",
              "    }\n",
              "</style>\n",
              "<table border=\"1\" class=\"dataframe\">\n",
              "  <thead>\n",
              "    <tr style=\"text-align: right;\">\n",
              "      <th></th>\n",
              "      <th>Unnamed: 0</th>\n",
              "      <th>img_name</th>\n",
              "      <th>class</th>\n",
              "      <th>bbox</th>\n",
              "      <th>bbox_count</th>\n",
              "      <th>object_count</th>\n",
              "      <th>stratify_group</th>\n",
              "      <th>fold</th>\n",
              "    </tr>\n",
              "  </thead>\n",
              "  <tbody>\n",
              "    <tr>\n",
              "      <th>0</th>\n",
              "      <td>0</td>\n",
              "      <td>BloodImage_00322.jpg</td>\n",
              "      <td>Platelets</td>\n",
              "      <td>['168', '374', '198', '406']</td>\n",
              "      <td>4.0</td>\n",
              "      <td>2.0</td>\n",
              "      <td>2_0</td>\n",
              "      <td>2.0</td>\n",
              "    </tr>\n",
              "    <tr>\n",
              "      <th>1</th>\n",
              "      <td>1</td>\n",
              "      <td>BloodImage_00322.jpg</td>\n",
              "      <td>Platelets</td>\n",
              "      <td>['527', '244', '564', '282']</td>\n",
              "      <td>4.0</td>\n",
              "      <td>2.0</td>\n",
              "      <td>2_0</td>\n",
              "      <td>2.0</td>\n",
              "    </tr>\n",
              "    <tr>\n",
              "      <th>2</th>\n",
              "      <td>2</td>\n",
              "      <td>BloodImage_00322.jpg</td>\n",
              "      <td>Platelets</td>\n",
              "      <td>['565', '383', '602', '421']</td>\n",
              "      <td>4.0</td>\n",
              "      <td>2.0</td>\n",
              "      <td>2_0</td>\n",
              "      <td>2.0</td>\n",
              "    </tr>\n",
              "    <tr>\n",
              "      <th>3</th>\n",
              "      <td>3</td>\n",
              "      <td>BloodImage_00322.jpg</td>\n",
              "      <td>WBC</td>\n",
              "      <td>['307', '174', '528', '387']</td>\n",
              "      <td>4.0</td>\n",
              "      <td>2.0</td>\n",
              "      <td>2_0</td>\n",
              "      <td>2.0</td>\n",
              "    </tr>\n",
              "    <tr>\n",
              "      <th>4</th>\n",
              "      <td>4</td>\n",
              "      <td>BloodImage_00047.jpg</td>\n",
              "      <td>WBC</td>\n",
              "      <td>['278', '147', '383', '259']</td>\n",
              "      <td>21.0</td>\n",
              "      <td>3.0</td>\n",
              "      <td>3_1</td>\n",
              "      <td>3.0</td>\n",
              "    </tr>\n",
              "  </tbody>\n",
              "</table>\n",
              "</div>"
            ]
          },
          "metadata": {},
          "execution_count": 20
        }
      ]
    },
    {
      "cell_type": "code",
      "source": [
        "name = 'BloodImage_00322.jpg'\n",
        "img = load_image(name, IMG_ROOT)\n",
        "plot_image(img)"
      ],
      "metadata": {
        "colab": {
          "base_uri": "https://localhost:8080/",
          "height": 281
        },
        "id": "7QIIYNeGMZX6",
        "outputId": "4e613712-7f30-40b8-db0f-29260f1714da"
      },
      "execution_count": null,
      "outputs": [
        {
          "output_type": "display_data",
          "data": {
            "text/plain": [
              "<Figure size 432x288 with 1 Axes>"
            ],
            "image/png": "[encoded data removed]"
          },
          "metadata": {
            "needs_background": "light"
          }
        }
      ]
    },
    {
      "cell_type": "markdown",
      "source": [
        "**Create new images and create new excel files with classes, new names and bounding boxes**"
      ],
      "metadata": {
        "id": "l9HwohxBSrob"
      }
    },
    {
      "cell_type": "code",
      "source": [
        "def add_noise(clr_img):\n",
        "  noise_img=skimage.util.random_noise(clr_img, mode='s&p')\n",
        "  noise_img=skimage.util.random_noise(noise_img, mode='gaussian')\n",
        "  return noise_img\n",
        "\n",
        "def concat_name(row_old_name):\n",
        "  pd.concat(row_old_name['img_name'+'_augmented_'+i])\n",
        "  return new_name"
      ],
      "metadata": {
        "id": "wTXVoyhFPE6Q"
      },
      "execution_count": null,
      "outputs": []
    },
    {
      "cell_type": "code",
      "source": [
        "campione=data[data['class']=='Platelets']\n",
        "\n",
        "univoci=pd.DataFrame(campione['img_name'].unique(), columns=['img_name'])\n",
        "sample_to_augment=univoci.sample(n=60,replace=True)\n",
        "new_df=pd.DataFrame()\n",
        "i=0\n",
        "for element in sample_to_augment['img_name']:\n",
        "  img = load_image(element, IMG_ROOT)\n",
        "  new_img=add_noise(img)\n",
        "  name_no_ext=element.split(\".\")[0]\n",
        "  new_name=name_no_ext+'_augmented_'+str(i)+'_.jpg'\n",
        "  new_img = cv2.convertScaleAbs(new_img, alpha=(255.0))\n",
        "  cv2.imwrite(IMG_ROOT+new_name,new_img)\n",
        "  new_df=new_df.append({'new_img_name':new_name},ignore_index = True)\n",
        "  i=i+1\n",
        "\n",
        "sample_to_augment=sample_to_augment.reset_index()\n",
        "new_df=new_df.reset_index()\n",
        "final_df=pd.concat((sample_to_augment,new_df), axis=1)\n"
      ],
      "metadata": {
        "id": "-ofzxDLpQFKH"
      },
      "execution_count": null,
      "outputs": []
    },
    {
      "cell_type": "code",
      "source": [
        "subsample=pd.merge(data,final_df,on='img_name')\n",
        "print(subsample)\n",
        "subsample.to_csv(\"D:/Pictures/dataset/new_images/subsample.csv\",index=False,header=False)  # This CSV will be use in training"
      ],
      "metadata": {
        "colab": {
          "base_uri": "https://localhost:8080/"
        },
        "id": "LtVvFBAkdtBv",
        "outputId": "820d5375-7984-4e15-83ee-887bc8aec397"
      },
      "execution_count": null,
      "outputs": [
        {
          "output_type": "stream",
          "name": "stdout",
          "text": [
            "     Unnamed: 0              img_name      class  \\\n",
            "0             4  BloodImage_00047.jpg        WBC   \n",
            "1             5  BloodImage_00047.jpg  Platelets   \n",
            "2             6  BloodImage_00047.jpg  Platelets   \n",
            "3             7  BloodImage_00047.jpg  Platelets   \n",
            "4             8  BloodImage_00047.jpg        RBC   \n",
            "..          ...                   ...        ...   \n",
            "833        3794  BloodImage_00296.jpg  Platelets   \n",
            "834        3794  BloodImage_00296.jpg  Platelets   \n",
            "835        3848  BloodImage_00258.jpg  Platelets   \n",
            "836        3849  BloodImage_00258.jpg        WBC   \n",
            "837        3850  BloodImage_00258.jpg  Platelets   \n",
            "\n",
            "                             bbox  bbox_count  object_count stratify_group  \\\n",
            "0    ['278', '147', '383', '259']        21.0           3.0            3_1   \n",
            "1    ['207', '214', '240', '242']        21.0           3.0            3_1   \n",
            "2    ['258', '263', '291', '291']        21.0           3.0            3_1   \n",
            "3      ['12', '277', '40', '311']        21.0           3.0            3_1   \n",
            "4     ['32', '102', '163', '230']        21.0           3.0            3_1   \n",
            "..                            ...         ...           ...            ...   \n",
            "833  ['454', '451', '494', '480']        16.0           3.0            3_1   \n",
            "834  ['454', '451', '494', '480']        16.0           3.0            3_1   \n",
            "835  ['257', '162', '300', '202']         3.0           2.0            2_0   \n",
            "836  ['221', '223', '386', '387']         3.0           2.0            2_0   \n",
            "837  ['541', '394', '582', '435']         3.0           2.0            2_0   \n",
            "\n",
            "     fold  index  index                        new_img_name  \n",
            "0     3.0      1     27  BloodImage_00047_augmented_27_.jpg  \n",
            "1     3.0      1     27  BloodImage_00047_augmented_27_.jpg  \n",
            "2     3.0      1     27  BloodImage_00047_augmented_27_.jpg  \n",
            "3     3.0      1     27  BloodImage_00047_augmented_27_.jpg  \n",
            "4     3.0      1     27  BloodImage_00047_augmented_27_.jpg  \n",
            "..    ...    ...    ...                                 ...  \n",
            "833   2.0    153     39  BloodImage_00296_augmented_39_.jpg  \n",
            "834   2.0    153     57  BloodImage_00296_augmented_57_.jpg  \n",
            "835   1.0    155     53  BloodImage_00258_augmented_53_.jpg  \n",
            "836   1.0    155     53  BloodImage_00258_augmented_53_.jpg  \n",
            "837   1.0    155     53  BloodImage_00258_augmented_53_.jpg  \n",
            "\n",
            "[838 rows x 11 columns]\n"
          ]
        }
      ]
    },
    {
      "cell_type": "code",
      "source": [
        "#platelets, WBC"
      ],
      "metadata": {
        "id": "xO5HAjyWPa_o"
      },
      "execution_count": null,
      "outputs": []
    },
    {
      "cell_type": "code",
      "source": [
        "campione=data[data['class']=='WBC']\n",
        "\n",
        "univoci=pd.DataFrame(campione['img_name'].unique(), columns=['img_name'])\n",
        "sample_to_augment=univoci.sample(n=60,replace=True)\n",
        "new_df=pd.DataFrame()\n",
        "i=0\n",
        "for element in sample_to_augment['img_name']:\n",
        "  img = load_image(element, IMG_ROOT)\n",
        "  new_img=add_noise(img)\n",
        "  name_no_ext=element.split(\".\")[0]\n",
        "  new_name=name_no_ext+'_augmented_'+str(i)+'_.jpg'\n",
        "  new_img = cv2.convertScaleAbs(new_img, alpha=(255.0))\n",
        "  cv2.imwrite(IMG_ROOT+new_name,new_img)\n",
        "  new_df=new_df.append({'new_img_name':new_name},ignore_index = True)\n",
        "  i=i+1\n",
        "\n",
        "sample_to_augment=sample_to_augment.reset_index()\n",
        "new_df=new_df.reset_index()\n",
        "final_df=pd.concat((sample_to_augment,new_df), axis=1)"
      ],
      "metadata": {
        "id": "WFVP3j6kfW5W"
      },
      "execution_count": null,
      "outputs": []
    },
    {
      "cell_type": "code",
      "source": [
        "subsample=pd.merge(data,final_df,on='img_name')\n",
        "print(subsample)\n",
        "subsample.to_csv(\"D:/Pictures/dataset/new_images/subsample.csv\",index=False,header=False)  # This CSV will be use in training"
      ],
      "metadata": {
        "colab": {
          "base_uri": "https://localhost:8080/"
        },
        "id": "izbS_Hw5fa-u",
        "outputId": "b7d59efb-990a-40f9-bb46-3df68ab5e0fd"
      },
      "execution_count": null,
      "outputs": [
        {
          "output_type": "stream",
          "name": "stdout",
          "text": [
            "     Unnamed: 0              img_name class                          bbox  \\\n",
            "0            76  BloodImage_00260.jpg   RBC    ['45', '88', '146', '180']   \n",
            "1            77  BloodImage_00260.jpg   RBC  ['361', '124', '484', '234']   \n",
            "2            78  BloodImage_00260.jpg   RBC   ['95', '414', '199', '479']   \n",
            "3            79  BloodImage_00260.jpg   RBC   ['118', '68', '247', '150']   \n",
            "4            80  BloodImage_00260.jpg   RBC      ['1', '3', '101', '100']   \n",
            "..          ...                   ...   ...                           ...   \n",
            "803        3843  BloodImage_00342.jpg   RBC   ['74', '324', '192', '422']   \n",
            "804        3844  BloodImage_00342.jpg   RBC     ['203', '1', '302', '72']   \n",
            "805        3845  BloodImage_00342.jpg   RBC  ['492', '413', '578', '480']   \n",
            "806        3846  BloodImage_00342.jpg   RBC  ['322', '256', '440', '366']   \n",
            "807        3847  BloodImage_00342.jpg   WBC  ['111', '106', '420', '362']   \n",
            "\n",
            "     bbox_count  object_count stratify_group  fold  index  index  \\\n",
            "0           6.0           2.0            2_0   2.0      6     13   \n",
            "1           6.0           2.0            2_0   2.0      6     13   \n",
            "2           6.0           2.0            2_0   2.0      6     13   \n",
            "3           6.0           2.0            2_0   2.0      6     13   \n",
            "4           6.0           2.0            2_0   2.0      6     13   \n",
            "..          ...           ...            ...   ...    ...    ...   \n",
            "803         9.0           2.0            2_0   3.0    278     54   \n",
            "804         9.0           2.0            2_0   3.0    278     54   \n",
            "805         9.0           2.0            2_0   3.0    278     54   \n",
            "806         9.0           2.0            2_0   3.0    278     54   \n",
            "807         9.0           2.0            2_0   3.0    278     54   \n",
            "\n",
            "                           new_img_name  \n",
            "0    BloodImage_00260_augmented_13_.jpg  \n",
            "1    BloodImage_00260_augmented_13_.jpg  \n",
            "2    BloodImage_00260_augmented_13_.jpg  \n",
            "3    BloodImage_00260_augmented_13_.jpg  \n",
            "4    BloodImage_00260_augmented_13_.jpg  \n",
            "..                                  ...  \n",
            "803  BloodImage_00342_augmented_54_.jpg  \n",
            "804  BloodImage_00342_augmented_54_.jpg  \n",
            "805  BloodImage_00342_augmented_54_.jpg  \n",
            "806  BloodImage_00342_augmented_54_.jpg  \n",
            "807  BloodImage_00342_augmented_54_.jpg  \n",
            "\n",
            "[808 rows x 11 columns]\n"
          ]
        }
      ]
    }
  ]
}